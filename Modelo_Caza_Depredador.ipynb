{
  "nbformat": 4,
  "nbformat_minor": 0,
  "metadata": {
    "colab": {
      "name": "Modelo-Caza-Depredador.ipynb",
      "provenance": [],
      "collapsed_sections": [],
      "toc_visible": true
    },
    "kernelspec": {
      "name": "python3",
      "display_name": "Python 3"
    },
    "language_info": {
      "name": "python"
    }
  },
  "cells": [
    {
      "cell_type": "markdown",
      "metadata": {
        "id": "t_BJqgmHokP_"
      },
      "source": [
        "# Modelo Caza-Depredador"
      ]
    },
    {
      "cell_type": "markdown",
      "metadata": {
        "id": "LlDvpZn9uKbn"
      },
      "source": [
        "## Modelo 1:"
      ]
    },
    {
      "cell_type": "code",
      "metadata": {
        "id": "2_nASAGloelG"
      },
      "source": [
        "from pylab import*\n",
        "from scipy.integrate import odeint"
      ],
      "execution_count": null,
      "outputs": []
    },
    {
      "cell_type": "code",
      "metadata": {
        "id": "FXPw3vASqZn9"
      },
      "source": [
        "p = 0.104 # Mortalidad del depredador"
      ],
      "execution_count": null,
      "outputs": []
    },
    {
      "cell_type": "code",
      "metadata": {
        "id": "eIa3-CaxqfsN"
      },
      "source": [
        "def competencia(u,t):\n",
        "  du = zeros(2)\n",
        "  du[0] = 0.5 * u[0] + 0.4*u[1]\n",
        "  du[1] = -p * u[0] + 1.1*u[1]\n",
        "  return du"
      ],
      "execution_count": null,
      "outputs": []
    },
    {
      "cell_type": "code",
      "metadata": {
        "id": "IRcUkYylq850"
      },
      "source": [
        "time = linspace(0.0,3.0,100) # Tiempo en meses "
      ],
      "execution_count": null,
      "outputs": []
    },
    {
      "cell_type": "markdown",
      "metadata": {
        "id": "DJTOz9Y8rK6O"
      },
      "source": [
        "A continuación tenemos las condiones iniciales del sistema."
      ]
    },
    {
      "cell_type": "markdown",
      "metadata": {
        "id": "4O2V1MO6rSQA"
      },
      "source": [
        "Representación gráfica:"
      ]
    },
    {
      "cell_type": "code",
      "metadata": {
        "colab": {
          "base_uri": "https://localhost:8080/",
          "height": 296
        },
        "id": "-j0HOM4WrRoV",
        "outputId": "ece9ee41-ef0e-4e6f-8615-bae9f2b13653"
      },
      "source": [
        "# Caso 1\n",
        "unit = ([2,15])\n",
        "u=odeint(competencia,unit,time)\n",
        "plot(u[:,0],u[:,1])\n",
        "\n",
        "# caso 2\n",
        "unit = ([50,10])\n",
        "u=odeint(competencia,unit,time)\n",
        "plot(u[:,0],u[:,1])\n",
        "\n",
        "# Caso 3\n",
        "unit = ([10,13])\n",
        "u=odeint(competencia,unit,time)\n",
        "plot(u[:,0],u[:,1])\n",
        "\n",
        "# Caso 4\n",
        "unit = ([25,25])\n",
        "u=odeint(competencia,unit,time)\n",
        "plot(u[:,0],u[:,1])\n",
        "\n",
        "# Caso 5\n",
        "unit = ([15,5])\n",
        "u=odeint(competencia,unit,time)\n",
        "plot(u[:,0],u[:,1])\n",
        "\n",
        "xlabel('x(t)')\n",
        "ylabel('y(t)')"
      ],
      "execution_count": null,
      "outputs": [
        {
          "output_type": "execute_result",
          "data": {
            "text/plain": [
              "Text(0, 0.5, 'y(t)')"
            ]
          },
          "metadata": {
            "tags": []
          },
          "execution_count": 20
        },
        {
          "output_type": "display_data",
          "data": {
            "image/png": "[encoded data removed]",
            "text/plain": [
              "<Figure size 432x288 with 1 Axes>"
            ]
          },
          "metadata": {
            "tags": [],
            "needs_background": "light"
          }
        }
      ]
    },
    {
      "cell_type": "markdown",
      "metadata": {
        "id": "UrAVwI3SuWy_"
      },
      "source": [
        "## Modelo 2:"
      ]
    },
    {
      "cell_type": "code",
      "metadata": {
        "id": "89d12iKDtWDH"
      },
      "source": [
        "from pylab import*\n",
        "from scipy.integrate import odeint"
      ],
      "execution_count": null,
      "outputs": []
    },
    {
      "cell_type": "code",
      "metadata": {
        "id": "tvSL2-_yucBO"
      },
      "source": [
        "def competencia(u,t):\n",
        "  du = zeros(2)\n",
        "  du[0] = 1.0 * u[0] + 1.0*u[1]\n",
        "  du[1] = 4.0 * u[0] - 2.0*u[1]\n",
        "  return du"
      ],
      "execution_count": null,
      "outputs": []
    },
    {
      "cell_type": "code",
      "metadata": {
        "id": "9S85Xa9mur8b"
      },
      "source": [
        "time = linspace(0.0,1.0,50) # Tiempo en meses "
      ],
      "execution_count": null,
      "outputs": []
    },
    {
      "cell_type": "code",
      "metadata": {
        "colab": {
          "base_uri": "https://localhost:8080/",
          "height": 296
        },
        "id": "Gx4aRgdku10E",
        "outputId": "80702f86-ee3b-496e-e8c9-cbccb8e262d3"
      },
      "source": [
        "# Caso 1\n",
        "unit = ([1,6])\n",
        "u=odeint(competencia,unit,time)\n",
        "plot(u[:,0],u[:,1])\n",
        "\n",
        "# caso 2\n",
        "unit = ([1,8])\n",
        "u=odeint(competencia,unit,time)\n",
        "plot(u[:,0],u[:,1])\n",
        "\n",
        "# Caso 3\n",
        "unit = ([1,10])\n",
        "u=odeint(competencia,unit,time)\n",
        "plot(u[:,0],u[:,1])\n",
        "\n",
        "# Caso 4\n",
        "unit = ([1,12])\n",
        "u=odeint(competencia,unit,time)\n",
        "plot(u[:,0],u[:,1])\n",
        "\n",
        "# Caso 5\n",
        "unit = ([1,14])\n",
        "u=odeint(competencia,unit,time)\n",
        "plot(u[:,0],u[:,1])\n",
        "\n",
        "xlabel('x(t)')\n",
        "ylabel('y(t)')"
      ],
      "execution_count": null,
      "outputs": [
        {
          "output_type": "execute_result",
          "data": {
            "text/plain": [
              "Text(0, 0.5, 'y(t)')"
            ]
          },
          "metadata": {
            "tags": []
          },
          "execution_count": 25
        },
        {
          "output_type": "display_data",
          "data": {
            "image/png": "[encoded data removed]",
            "text/plain": [
              "<Figure size 432x288 with 1 Axes>"
            ]
          },
          "metadata": {
            "tags": [],
            "needs_background": "light"
          }
        }
      ]
    },
    {
      "cell_type": "code",
      "metadata": {
        "id": "fn-ngSLivD0f"
      },
      "source": [
        ""
      ],
      "execution_count": null,
      "outputs": []
    }
  ]
}